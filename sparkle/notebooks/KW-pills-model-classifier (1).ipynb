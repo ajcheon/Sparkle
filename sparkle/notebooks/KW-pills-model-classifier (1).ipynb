{
 "cells": [
  {
   "cell_type": "markdown",
   "metadata": {
    "toc": true
   },
   "source": [
    "<h1>Table of Contents<span class=\"tocSkip\"></span></h1>\n",
    "<div class=\"toc\"><ul class=\"toc-item\"><li><span><a href=\"#GBTClassifier\" data-toc-modified-id=\"GBTClassifier-1\">GBTClassifier</a></span><ul class=\"toc-item\"><li><span><a href=\"#Load-Data\" data-toc-modified-id=\"Load-Data-1.1\">Load Data</a></span></li><li><span><a href=\"#Train-test-split\" data-toc-modified-id=\"Train-test-split-1.2\">Train-test split</a></span></li><li><span><a href=\"#Build-Pipeline\" data-toc-modified-id=\"Build-Pipeline-1.3\">Build Pipeline</a></span></li><li><span><a href=\"#Train-Models\" data-toc-modified-id=\"Train-Models-1.4\">Train Models</a></span></li><li><span><a href=\"#Predict-&amp;-Validate\" data-toc-modified-id=\"Predict-&amp;-Validate-1.5\">Predict &amp; Validate</a></span></li><li><span><a href=\"#Feature-Importances\" data-toc-modified-id=\"Feature-Importances-1.6\">Feature Importances</a></span></li></ul></li></ul></div>"
   ]
  },
  {
   "cell_type": "code",
   "execution_count": 20,
   "metadata": {
    "ExecuteTime": {
     "end_time": "2020-01-17T15:22:13.284275Z",
     "start_time": "2020-01-17T15:22:13.277034Z"
    }
   },
   "outputs": [],
   "source": [
    "# Standard lib\n",
    "import time\n",
    "\n",
    "# SparkML\n",
    "from pyspark.ml import Pipeline\n",
    "from pyspark.ml.evaluation import RegressionEvaluator\n",
    "from pyspark.ml.evaluation import MulticlassClassificationEvaluator\n",
    "from pyspark.ml.feature import VectorAssembler\n",
    "from pyspark.ml.classification import LogisticRegression, GBTClassifier, MultilayerPerceptronClassifier\n",
    "\n",
    "# SparkSQL\n",
    "from pyspark.sql import SparkSession\n",
    "from pyspark.sql.functions import *\n",
    "from pyspark.sql.types import *"
   ]
  },
  {
   "cell_type": "code",
   "execution_count": 21,
   "metadata": {
    "ExecuteTime": {
     "end_time": "2020-01-17T15:22:13.298112Z",
     "start_time": "2020-01-17T15:22:13.292566Z"
    }
   },
   "outputs": [],
   "source": [
    "# Get the ball rolling\n",
    "ss = SparkSession.builder.getOrCreate()"
   ]
  },
  {
   "cell_type": "markdown",
   "metadata": {},
   "source": [
    "------------------"
   ]
  },
  {
   "cell_type": "markdown",
   "metadata": {},
   "source": [
    "# GBTClassifier"
   ]
  },
  {
   "cell_type": "markdown",
   "metadata": {},
   "source": [
    "## Load Data"
   ]
  },
  {
   "cell_type": "code",
   "execution_count": 22,
   "metadata": {
    "ExecuteTime": {
     "end_time": "2020-01-17T15:22:13.310142Z",
     "start_time": "2020-01-17T15:22:13.304051Z"
    }
   },
   "outputs": [],
   "source": [
    "# Data path\n",
    "data_path = \"../../data/processed/lite_300.csv\""
   ]
  },
  {
   "cell_type": "code",
   "execution_count": 23,
   "metadata": {
    "ExecuteTime": {
     "end_time": "2020-01-17T15:22:13.628928Z",
     "start_time": "2020-01-17T15:22:13.314298Z"
    }
   },
   "outputs": [],
   "source": [
    "df_pills = ss.read.csv(data_path, header=True, inferSchema=True)"
   ]
  },
  {
   "cell_type": "code",
   "execution_count": 24,
   "metadata": {
    "ExecuteTime": {
     "end_time": "2020-01-17T15:22:13.741683Z",
     "start_time": "2020-01-17T15:22:13.631576Z"
    }
   },
   "outputs": [
    {
     "data": {
      "text/plain": [
       "300"
      ]
     },
     "execution_count": 24,
     "metadata": {},
     "output_type": "execute_result"
    }
   ],
   "source": [
    "# n_observations\n",
    "df_pills.count()"
   ]
  },
  {
   "cell_type": "code",
   "execution_count": 25,
   "metadata": {
    "ExecuteTime": {
     "end_time": "2020-01-17T15:22:13.787502Z",
     "start_time": "2020-01-17T15:22:13.747059Z"
    }
   },
   "outputs": [],
   "source": [
    "##### Encode pill counts less than or equal to threshold as 1, else 0\n",
    "thresh = 15\n",
    "convert_int = udf(lambda x : int(x <= thresh), IntegerType())\n",
    "df_pills = df_pills.withColumn('label', convert_int('label'))"
   ]
  },
  {
   "cell_type": "markdown",
   "metadata": {},
   "source": [
    "-------------"
   ]
  },
  {
   "cell_type": "markdown",
   "metadata": {},
   "source": [
    "## Train-test split"
   ]
  },
  {
   "cell_type": "code",
   "execution_count": 26,
   "metadata": {
    "ExecuteTime": {
     "end_time": "2020-01-17T15:22:13.820728Z",
     "start_time": "2020-01-17T15:22:13.790310Z"
    }
   },
   "outputs": [],
   "source": [
    "# Train-test split\n",
    "df_train, df_test = df_pills.randomSplit(weights=[0.80, 0.20])"
   ]
  },
  {
   "cell_type": "markdown",
   "metadata": {},
   "source": [
    "-------"
   ]
  },
  {
   "cell_type": "markdown",
   "metadata": {},
   "source": [
    "## Build Pipeline"
   ]
  },
  {
   "cell_type": "code",
   "execution_count": 27,
   "metadata": {
    "ExecuteTime": {
     "end_time": "2020-01-17T15:22:13.841981Z",
     "start_time": "2020-01-17T15:22:13.823443Z"
    }
   },
   "outputs": [],
   "source": [
    "# Drop target=\"label\" col from training data\n",
    "train_cols = df_train.drop(\"label\")"
   ]
  },
  {
   "cell_type": "code",
   "execution_count": 28,
   "metadata": {
    "ExecuteTime": {
     "end_time": "2020-01-17T15:22:13.885145Z",
     "start_time": "2020-01-17T15:22:13.848266Z"
    }
   },
   "outputs": [],
   "source": [
    "# Transformer; excludes \"label\" col\n",
    "va = VectorAssembler(outputCol=\"features\", inputCols=df_train.columns[:-1])\n",
    "\n",
    "# Estimators\n",
    "gbt = GBTClassifier(maxIter=200, maxDepth=3)\n",
    "lr = LogisticRegression(regParam=0, maxIter=1000, fitIntercept=True)"
   ]
  },
  {
   "cell_type": "code",
   "execution_count": 29,
   "metadata": {
    "ExecuteTime": {
     "end_time": "2020-01-17T15:22:14.159359Z",
     "start_time": "2020-01-17T15:22:13.892926Z"
    }
   },
   "outputs": [],
   "source": [
    "# Assemble features\n",
    "train_lpoints = va.transform(df_train).select(\"features\", \"label\").cache()\n",
    "test_lpoints = va.transform(df_test).select(\"features\", \"label\").cache()"
   ]
  },
  {
   "cell_type": "code",
   "execution_count": 30,
   "metadata": {
    "ExecuteTime": {
     "end_time": "2020-01-17T15:22:14.913954Z",
     "start_time": "2020-01-17T15:22:14.162264Z"
    }
   },
   "outputs": [
    {
     "name": "stdout",
     "output_type": "stream",
     "text": [
      "+-----+-----+\n",
      "|label|count|\n",
      "+-----+-----+\n",
      "|    1|  159|\n",
      "|    0|   79|\n",
      "+-----+-----+\n",
      "\n"
     ]
    }
   ],
   "source": [
    "train_lpoints.groupBy(\"label\").count().show(2)"
   ]
  },
  {
   "cell_type": "markdown",
   "metadata": {},
   "source": [
    "---------------"
   ]
  },
  {
   "cell_type": "markdown",
   "metadata": {},
   "source": [
    "## Train Models"
   ]
  },
  {
   "cell_type": "code",
   "execution_count": 31,
   "metadata": {
    "ExecuteTime": {
     "end_time": "2020-01-17T15:23:06.476912Z",
     "start_time": "2020-01-17T15:22:14.916364Z"
    }
   },
   "outputs": [
    {
     "name": "stdout",
     "output_type": "stream",
     "text": [
      "51.556219816207886\n"
     ]
    }
   ],
   "source": [
    "# Train Gradient Boosted Tree Model\n",
    "start = time.time()\n",
    "gbt_model = gbt.fit(train_lpoints)\n",
    "end = time.time()\n",
    "\n",
    "# Train time\n",
    "print(end-start)"
   ]
  },
  {
   "cell_type": "code",
   "execution_count": 32,
   "metadata": {
    "ExecuteTime": {
     "end_time": "2020-01-17T15:23:18.274407Z",
     "start_time": "2020-01-17T15:23:06.479863Z"
    }
   },
   "outputs": [
    {
     "name": "stdout",
     "output_type": "stream",
     "text": [
      "11.790694952011108\n"
     ]
    }
   ],
   "source": [
    "# Train Logistic Regression\n",
    "start = time.time()\n",
    "lr_model = lr.fit(train_lpoints)\n",
    "end = time.time()\n",
    "\n",
    "# Train time\n",
    "print(end-start)"
   ]
  },
  {
   "cell_type": "markdown",
   "metadata": {},
   "source": [
    "-----------"
   ]
  },
  {
   "cell_type": "markdown",
   "metadata": {},
   "source": [
    "## Predict & Validate"
   ]
  },
  {
   "cell_type": "code",
   "execution_count": 33,
   "metadata": {
    "ExecuteTime": {
     "end_time": "2020-01-17T15:23:18.343636Z",
     "start_time": "2020-01-17T15:23:18.277118Z"
    }
   },
   "outputs": [],
   "source": [
    "# Predict\n",
    "gbt_predict = gbt_model.transform(test_lpoints)\n",
    "lr_predict = lr_model.transform(test_lpoints)"
   ]
  },
  {
   "cell_type": "code",
   "execution_count": 34,
   "metadata": {
    "ExecuteTime": {
     "end_time": "2020-01-17T15:23:18.917229Z",
     "start_time": "2020-01-17T15:23:18.345750Z"
    }
   },
   "outputs": [
    {
     "name": "stdout",
     "output_type": "stream",
     "text": [
      "Gradient Boosted Accuracy: 0.742\n",
      "Logistic Reg Accuracy: 0.790\n",
      "\n",
      "Gradient Boosted F1: 0.729\n",
      "Logistic Reg F1: 0.786\n"
     ]
    }
   ],
   "source": [
    "# Validate\n",
    "metrics = MulticlassClassificationEvaluator().setLabelCol(\"label\").setPredictionCol(\"prediction\")\n",
    "\n",
    "metrics.setMetricName(\"accuracy\")\n",
    "print(f\"Gradient Boosted Accuracy: {metrics.evaluate(gbt_predict):.3f}\")\n",
    "print(f\"Logistic Reg Accuracy: {metrics.evaluate(lr_predict):.3f}\\n\")\n",
    "\n",
    "\n",
    "metrics.setMetricName(\"f1\")\n",
    "print(f\"Gradient Boosted F1: {metrics.evaluate(gbt_predict):.3f}\")\n",
    "print(f\"Logistic Reg F1: {metrics.evaluate(lr_predict):.3f}\")"
   ]
  },
  {
   "cell_type": "markdown",
   "metadata": {},
   "source": [
    "-----------"
   ]
  },
  {
   "cell_type": "markdown",
   "metadata": {},
   "source": [
    "## Feature Importances"
   ]
  },
  {
   "cell_type": "code",
   "execution_count": 35,
   "metadata": {
    "ExecuteTime": {
     "end_time": "2020-01-17T15:23:18.948103Z",
     "start_time": "2020-01-17T15:23:18.922206Z"
    }
   },
   "outputs": [],
   "source": [
    "# Feature importances\n",
    "top_tups_gbt = sorted(list(zip(gbt_model.featureImportances.indices, gbt_model.featureImportances.values)), key=lambda x: x[1], reverse=True)[:10]"
   ]
  },
  {
   "cell_type": "code",
   "execution_count": 36,
   "metadata": {
    "ExecuteTime": {
     "end_time": "2020-01-17T15:23:18.956683Z",
     "start_time": "2020-01-17T15:23:18.951101Z"
    }
   },
   "outputs": [],
   "source": [
    "top_indices = [x[0] for x in top_tups_gbt[:5]]"
   ]
  },
  {
   "cell_type": "code",
   "execution_count": 37,
   "metadata": {
    "ExecuteTime": {
     "end_time": "2020-01-17T15:23:18.967196Z",
     "start_time": "2020-01-17T15:23:18.959177Z"
    }
   },
   "outputs": [
    {
     "data": {
      "text/plain": [
       "[5, 26, 42, 85, 20]"
      ]
     },
     "execution_count": 37,
     "metadata": {},
     "output_type": "execute_result"
    }
   ],
   "source": [
    "top_indices"
   ]
  },
  {
   "cell_type": "code",
   "execution_count": 38,
   "metadata": {
    "ExecuteTime": {
     "end_time": "2020-01-17T15:23:18.987007Z",
     "start_time": "2020-01-17T15:23:18.969685Z"
    }
   },
   "outputs": [
    {
     "data": {
      "text/plain": [
       "['0_max_gyro_y',\n",
       " '1_avg_gyro_y',\n",
       " '2_avg_gyro_x',\n",
       " '4_max_gyro_y',\n",
       " '1_min_gyro_x']"
      ]
     },
     "execution_count": 38,
     "metadata": {},
     "output_type": "execute_result"
    }
   ],
   "source": [
    "[df_pills.columns[index] for index in top_indices]"
   ]
  },
  {
   "cell_type": "markdown",
   "metadata": {},
   "source": [
    "--------------------"
   ]
  }
 ],
 "metadata": {
  "kernelspec": {
   "display_name": "Python 3",
   "language": "python",
   "name": "python3"
  },
  "language_info": {
   "codemirror_mode": {
    "name": "ipython",
    "version": 3
   },
   "file_extension": ".py",
   "mimetype": "text/x-python",
   "name": "python",
   "nbconvert_exporter": "python",
   "pygments_lexer": "ipython3",
   "version": "3.7.3"
  },
  "toc": {
   "base_numbering": 1,
   "nav_menu": {},
   "number_sections": false,
   "sideBar": true,
   "skip_h1_title": false,
   "title_cell": "Table of Contents",
   "title_sidebar": "Contents",
   "toc_cell": true,
   "toc_position": {},
   "toc_section_display": true,
   "toc_window_display": false
  }
 },
 "nbformat": 4,
 "nbformat_minor": 2
}
